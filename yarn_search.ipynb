{
 "cells": [
  {
   "cell_type": "code",
   "execution_count": 4,
   "metadata": {},
   "outputs": [
    {
     "data": {
      "text/plain": [
       "['пенсионер', 'старикашка', 'ветеран', 'дед']"
      ]
     },
     "execution_count": 4,
     "metadata": {},
     "output_type": "execute_result"
    }
   ],
   "source": [
    "import csv\n",
    "\n",
    "def yarn_search(target, filepath = 'yarn-synsets1.csv'):\n",
    "    with open(filepath, \"r\", newline=\"\") as file: # постепенный просмотр файла с синсетами\n",
    "        reader = csv.DictReader(file, delimiter=';')\n",
    "        for i,row in enumerate(reader):\n",
    "            cur_line = row['words'].split(';')\n",
    "            if len(cur_line)>1:\n",
    "                if target in cur_line:\n",
    "                    del(reader)\n",
    "                    return [c for c in cur_line if ' ' not in c and c!=target]\n",
    "\n",
    "yarn_search('старик')"
   ]
  },
  {
   "cell_type": "code",
   "execution_count": null,
   "metadata": {
    "collapsed": true
   },
   "outputs": [],
   "source": []
  },
  {
   "cell_type": "code",
   "execution_count": null,
   "metadata": {
    "collapsed": true
   },
   "outputs": [],
   "source": []
  }
 ],
 "metadata": {
  "kernelspec": {
   "display_name": "Python 3",
   "language": "python",
   "name": "python3"
  },
  "language_info": {
   "codemirror_mode": {
    "name": "ipython",
    "version": 3
   },
   "file_extension": ".py",
   "mimetype": "text/x-python",
   "name": "python",
   "nbconvert_exporter": "python",
   "pygments_lexer": "ipython3",
   "version": "3.6.3"
  }
 },
 "nbformat": 4,
 "nbformat_minor": 2
}
